{
 "cells": [
  {
   "cell_type": "markdown",
   "metadata": {
    "collapsed": true
   },
   "source": [
    "# Profitable app profiles for the App Store and Google Play markets"
   ]
  },
  {
   "cell_type": "markdown",
   "metadata": {},
   "source": [
    "----------------------------"
   ]
  },
  {
   "cell_type": "markdown",
   "metadata": {},
   "source": [
    "My aim in this project is to find mobile app profiles that are profitable for the App Store and Google Play markets. \n",
    "\n",
    "At my ficticous company, we only build apps that are free to download and install, and our main source of revenue consists of in-app ads. This means that our revenue for any given app is mostly influenced by the number of users that use our app. My goal for this project is to analyze data to help our developers understand what kinds of apps are likely to attract more users."
   ]
  },
  {
   "cell_type": "markdown",
   "metadata": {},
   "source": [
    "## Opening and exploring the data"
   ]
  },
  {
   "cell_type": "markdown",
   "metadata": {},
   "source": [
    "As of September 2018, there were approximately 2 million iOS apps available on the App Store, and 2.1 million Android apps on Google Play.\n",
    "\n",
    "Naturally I've sourced two relatively small (but substantial) datasets which I will open and explore below."
   ]
  },
  {
   "cell_type": "code",
   "execution_count": 1,
   "metadata": {
    "collapsed": true
   },
   "outputs": [],
   "source": [
    "from csv import reader\n",
    "\n",
    "opened_file = open('AppleStore.csv')\n",
    "read_file = reader(opened_file)\n",
    "ios = list(read_file)\n",
    "ios_header = ios[0]\n",
    "ios = ios[1:]\n",
    "\n",
    "opened_file = open('googleplaystore.csv')\n",
    "read_file = reader(opened_file)\n",
    "android = list(read_file)\n",
    "android_header = android[0]\n",
    "android = android[1:]"
   ]
  },
  {
   "cell_type": "markdown",
   "metadata": {},
   "source": [
    "The function below will takes four parameters. The dataset, start and end integers for the row slice and a boolean to control whether we want to see the number of rows and columns."
   ]
  },
  {
   "cell_type": "code",
   "execution_count": 2,
   "metadata": {
    "collapsed": false
   },
   "outputs": [],
   "source": [
    "def explore_data(dataset, start, end, rows_and_columns=False):\n",
    "    dataset_slice = dataset[start:end]    \n",
    "    for row in dataset_slice:\n",
    "        print(row)\n",
    "        print('\\n') # adds a new (empty) line after each row\n",
    "\n",
    "    if rows_and_columns:\n",
    "        print('Number of rows:', len(dataset))\n",
    "        print('Number of columns:', len(dataset[0]))"
   ]
  },
  {
   "cell_type": "code",
   "execution_count": 3,
   "metadata": {
    "collapsed": false
   },
   "outputs": [
    {
     "name": "stdout",
     "output_type": "stream",
     "text": [
      "['id', 'track_name', 'size_bytes', 'currency', 'price', 'rating_count_tot', 'rating_count_ver', 'user_rating', 'user_rating_ver', 'ver', 'cont_rating', 'prime_genre', 'sup_devices.num', 'ipadSc_urls.num', 'lang.num', 'vpp_lic']\n",
      "\n",
      "\n",
      "['284882215', 'Facebook', '389879808', 'USD', '0.0', '2974676', '212', '3.5', '3.5', '95.0', '4+', 'Social Networking', '37', '1', '29', '1']\n",
      "\n",
      "\n",
      "['389801252', 'Instagram', '113954816', 'USD', '0.0', '2161558', '1289', '4.5', '4.0', '10.23', '12+', 'Photo & Video', '37', '0', '29', '1']\n",
      "\n",
      "\n",
      "['529479190', 'Clash of Clans', '116476928', 'USD', '0.0', '2130805', '579', '4.5', '4.5', '9.24.12', '9+', 'Games', '38', '5', '18', '1']\n",
      "\n",
      "\n",
      "Number of rows: 7197\n",
      "Number of columns: 16\n"
     ]
    }
   ],
   "source": [
    "print(ios_header)\n",
    "print('\\n')\n",
    "explore_data(ios, 0, 3, True)"
   ]
  },
  {
   "cell_type": "code",
   "execution_count": 4,
   "metadata": {
    "collapsed": false
   },
   "outputs": [
    {
     "name": "stdout",
     "output_type": "stream",
     "text": [
      "['App', 'Category', 'Rating', 'Reviews', 'Size', 'Installs', 'Type', 'Price', 'Content Rating', 'Genres', 'Last Updated', 'Current Ver', 'Android Ver']\n",
      "\n",
      "\n",
      "['Photo Editor & Candy Camera & Grid & ScrapBook', 'ART_AND_DESIGN', '4.1', '159', '19M', '10,000+', 'Free', '0', 'Everyone', 'Art & Design', 'January 7, 2018', '1.0.0', '4.0.3 and up']\n",
      "\n",
      "\n",
      "['Coloring book moana', 'ART_AND_DESIGN', '3.9', '967', '14M', '500,000+', 'Free', '0', 'Everyone', 'Art & Design;Pretend Play', 'January 15, 2018', '2.0.0', '4.0.3 and up']\n",
      "\n",
      "\n",
      "['U Launcher Lite – FREE Live Cool Themes, Hide Apps', 'ART_AND_DESIGN', '4.7', '87510', '8.7M', '5,000,000+', 'Free', '0', 'Everyone', 'Art & Design', 'August 1, 2018', '1.2.4', '4.0.3 and up']\n",
      "\n",
      "\n",
      "Number of rows: 10841\n",
      "Number of columns: 13\n"
     ]
    }
   ],
   "source": [
    "print(android_header)\n",
    "print('\\n')\n",
    "explore_data(android, 0, 3, True)"
   ]
  },
  {
   "cell_type": "markdown",
   "metadata": {},
   "source": [
    "With the above data I would suggest that the important columns for us would include ...\n",
    "\n",
    "**iOS** - 'track_name', 'currency', 'price', 'rating_count_tot', 'rating_count_ver', and 'prime_genre'\n",
    "**Android** - 'App', 'Category', 'Reviews', 'Installs', 'Type', 'Price', and 'Genres'"
   ]
  },
  {
   "cell_type": "markdown",
   "metadata": {
    "collapsed": true
   },
   "source": [
    "## Removing inaccurate and duplicate data"
   ]
  },
  {
   "cell_type": "markdown",
   "metadata": {},
   "source": [
    "According to a discussion posted on kaggle for this dataset, I've found that users have reported a missing category value for row 10472 in the google play data."
   ]
  },
  {
   "cell_type": "code",
   "execution_count": 5,
   "metadata": {
    "collapsed": false
   },
   "outputs": [
    {
     "name": "stdout",
     "output_type": "stream",
     "text": [
      "['Life Made WI-Fi Touchscreen Photo Frame', '1.9', '19', '3.0M', '1,000+', 'Free', '0', 'Everyone', '', 'February 11, 2018', '1.0.19', '4.0 and up']\n"
     ]
    }
   ],
   "source": [
    "print(android[10472])"
   ]
  },
  {
   "cell_type": "code",
   "execution_count": 6,
   "metadata": {
    "collapsed": true
   },
   "outputs": [],
   "source": [
    "del android[10472]"
   ]
  },
  {
   "cell_type": "markdown",
   "metadata": {
    "collapsed": true
   },
   "source": [
    "I see no other discussion from the forum around inaccurate data, however there does seem to be many duplicates. \n",
    "\n",
    "Lets check..."
   ]
  },
  {
   "cell_type": "code",
   "execution_count": 7,
   "metadata": {
    "collapsed": false
   },
   "outputs": [
    {
     "name": "stdout",
     "output_type": "stream",
     "text": [
      "Number of duplicate apps:  1181\n",
      "\n",
      "\n",
      "Examples of duplicate apps:  ['Quick PDF Scanner + OCR FREE', 'Box', 'Google My Business', 'ZOOM Cloud Meetings', 'join.me - Simple Meetings', 'Box', 'Zenefits', 'Google Ads', 'Google My Business', 'Slack', 'FreshBooks Classic', 'Insightly CRM', 'QuickBooks Accounting: Invoicing & Expenses', 'HipChat - Chat Built for Teams', 'Xero Accounting Software']\n"
     ]
    }
   ],
   "source": [
    "duplicate_apps = []\n",
    "unique_apps = []\n",
    "\n",
    "for app in android:\n",
    "    name = app[0]\n",
    "    if name in unique_apps:\n",
    "        duplicate_apps.append(name)\n",
    "    else:\n",
    "        unique_apps.append(name)\n",
    "        \n",
    "print('Number of duplicate apps: ', len(duplicate_apps))\n",
    "print('\\n')\n",
    "print('Examples of duplicate apps: ', duplicate_apps[:15])"
   ]
  },
  {
   "cell_type": "markdown",
   "metadata": {},
   "source": [
    "All I've done above is create a list that holds unique and duplicate apps data. I then iterated over the Android data set and assigned each app to either 'unique' or 'duplicate' depending on whether they were already in 'unique' or not. \n",
    "\n",
    "We can see that 1181 duplicate apps were returned. 1181 seems like an awful lot of duplicate apps here.\n",
    "\n",
    "Lets now remove these duplicate entries..."
   ]
  },
  {
   "cell_type": "code",
   "execution_count": 8,
   "metadata": {
    "collapsed": false
   },
   "outputs": [
    {
     "name": "stdout",
     "output_type": "stream",
     "text": [
      "9658\n"
     ]
    }
   ],
   "source": [
    "reviews_max = {}\n",
    "\n",
    "for app in android[1:]:\n",
    "    name = app[0]\n",
    "    n_reviews = float(app[3])\n",
    "    if name in reviews_max and reviews_max[name] < n_reviews:\n",
    "        reviews_max[name] = n_reviews\n",
    "    elif name not in reviews_max:\n",
    "        reviews_max[name] = n_reviews\n",
    "    \n",
    "print(len(reviews_max))"
   ]
  },
  {
   "cell_type": "code",
   "execution_count": 9,
   "metadata": {
    "collapsed": false
   },
   "outputs": [
    {
     "name": "stdout",
     "output_type": "stream",
     "text": [
      "9658\n"
     ]
    }
   ],
   "source": [
    "android_clean = []\n",
    "already_added = []\n",
    "\n",
    "for app in android[1:]:\n",
    "    name = app[0]\n",
    "    n_reviews = float(app[3])\n",
    "    if n_reviews == reviews_max[name] and name not in already_added:\n",
    "        android_clean.append(app)\n",
    "        already_added.append(name)\n",
    "        \n",
    "print(len(android_clean))"
   ]
  },
  {
   "cell_type": "markdown",
   "metadata": {},
   "source": [
    "Now we have a new list with zero duplicate entries inside the ```android_clean``` list."
   ]
  },
  {
   "cell_type": "markdown",
   "metadata": {},
   "source": [
    "My next job will be to find out if any of these app entries contain non-english characters. The reason for this is of course, our company is only going to develop english speaking apps and naturally we really only care for the relevant, similar data. We can build a function that iterates over strings and detects whether characters belong to ASCII system or not, then remove those apps which do not conform. "
   ]
  },
  {
   "cell_type": "code",
   "execution_count": 10,
   "metadata": {
    "collapsed": false
   },
   "outputs": [
    {
     "name": "stdout",
     "output_type": "stream",
     "text": [
      "True\n",
      "False\n"
     ]
    }
   ],
   "source": [
    "def ascii_character(string):\n",
    "    for character in string:\n",
    "        if ord(character) > 127:\n",
    "            return False\n",
    "    return True\n",
    "        \n",
    "print(ascii_character('instagram'))\n",
    "print(ascii_character('爱奇艺PPS -《欢乐颂2》电视剧热播'))"
   ]
  },
  {
   "cell_type": "markdown",
   "metadata": {},
   "source": [
    "The above function works as expected, however there are some apps that use emojis and other characters which can still be included in English titled apps. To combat this, I will amend the function to only detect the apps which have 3 or more non-ascii characters. This isn't perfect but should be quite effective."
   ]
  },
  {
   "cell_type": "code",
   "execution_count": 11,
   "metadata": {
    "collapsed": false
   },
   "outputs": [
    {
     "name": "stdout",
     "output_type": "stream",
     "text": [
      "True\n",
      "False\n",
      "True\n"
     ]
    }
   ],
   "source": [
    "def ascii_characters(string): #Have only added pluralisation to the func name\n",
    "    char_count = 0\n",
    "    for character in string:\n",
    "        if ord(character) > 127:\n",
    "            char_count += 1\n",
    "            if char_count >= 3:\n",
    "                return False\n",
    "    return True\n",
    "        \n",
    "print(ascii_characters('instagram'))\n",
    "print(ascii_characters('爱奇艺PPS -《欢乐颂2》电视剧热播'))\n",
    "print(ascii_characters('Instachat 😜'))"
   ]
  },
  {
   "cell_type": "markdown",
   "metadata": {},
   "source": [
    "This looks much better. Now I can use this function on both iOS and Android data sets to filter out the non-English apps and append them to a new list."
   ]
  },
  {
   "cell_type": "code",
   "execution_count": 12,
   "metadata": {
    "collapsed": false
   },
   "outputs": [
    {
     "name": "stdout",
     "output_type": "stream",
     "text": [
      "7197\n",
      "10840\n",
      "\n",
      "\n",
      "6155\n",
      "9658\n"
     ]
    }
   ],
   "source": [
    "ios_new = []\n",
    "android_new = []\n",
    "\n",
    "for app in ios:\n",
    "    name = app[1]\n",
    "    if ascii_characters(name):\n",
    "        ios_new.append(app)\n",
    "        \n",
    "for app in android_clean:\n",
    "    name = app[1]\n",
    "    if ascii_characters(name):\n",
    "        android_new.append(app)\n",
    "        \n",
    "print(len(ios))\n",
    "print(len(android))\n",
    "print('\\n')\n",
    "print(len(ios_new))\n",
    "print(len(android_new))"
   ]
  },
  {
   "cell_type": "code",
   "execution_count": 13,
   "metadata": {
    "collapsed": false
   },
   "outputs": [
    {
     "name": "stdout",
     "output_type": "stream",
     "text": [
      "['445375097', '爱奇艺PPS -《欢乐颂2》电视剧热播', '224617472', 'USD', '0.0', '14844', '0', '4.0', '0.0', '6.3.3', '17+', 'Entertainment', '38', '5', '3', '1']\n",
      "\n",
      "\n",
      "\n",
      "\n",
      "['951704333', 'Filterra – Photo Editor, Effects for Pictures', '99465216', 'USD', '0.0', '14744', '2178', '4.5', '4.5', '1.10', '4+', 'Photo & Video', '37', '5', '13', '1']\n",
      "\n",
      "\n"
     ]
    }
   ],
   "source": [
    "explore_data(ios, 813, 814)\n",
    "print('\\n')\n",
    "explore_data(ios_new, 813, 814)"
   ]
  },
  {
   "cell_type": "markdown",
   "metadata": {},
   "source": [
    "Using `explore_data` above, we can see an example of row 813 in the new iOS list which previously had a non-ascii app name. This has now been removed. \n",
    "\n",
    "Finally for the data cleaning process, we should now isolate the free apps from those that charge. After all, we also aim to develop free apps."
   ]
  },
  {
   "cell_type": "code",
   "execution_count": 14,
   "metadata": {
    "collapsed": false
   },
   "outputs": [
    {
     "name": "stdout",
     "output_type": "stream",
     "text": [
      "6155\n",
      "9658\n",
      "\n",
      "\n",
      "3203\n",
      "8904\n"
     ]
    }
   ],
   "source": [
    "ios_new_free = []\n",
    "android_new_free = []\n",
    "\n",
    "for app in ios_new:\n",
    "    price = app[4]\n",
    "    if price == '0.0':\n",
    "        ios_new_free.append(app)\n",
    "        \n",
    "for app in android_new:\n",
    "    price = app[7]\n",
    "    if price == '0':\n",
    "        android_new_free.append(app)\n",
    "        \n",
    "\n",
    "\n",
    "print(len(ios_new))\n",
    "print(len(android_new))\n",
    "print('\\n')\n",
    "print(len(ios_new_free))\n",
    "print(len(android_new_free))"
   ]
  },
  {
   "cell_type": "markdown",
   "metadata": {},
   "source": [
    "We have been left with 3203 iOS apps and 8904 Android apps after data cleaning, this should be adequate for our analysis. We have now removed the inaccurate data, duplicate app entries and non-English apps."
   ]
  },
  {
   "cell_type": "markdown",
   "metadata": {},
   "source": [
    "## Most common apps by genre"
   ]
  },
  {
   "cell_type": "markdown",
   "metadata": {},
   "source": [
    "Our aim is to determine the kinds of apps that are likely to attract more users because our revenue is highly influenced by the number of people using our apps.\n",
    "\n",
    "To minimize risks and overhead, our validation strategy for an app idea is comprised of three steps:\n",
    "\n",
    "Build a minimal Android version of the app, and add it to Google Play.\n",
    "If the app has a good response from users, we develop it further.\n",
    "If the app is profitable after six months, we build an iOS version of the app and add it to the App Store.\n",
    "Because our end goal is to add the app on both Google Play and the App Store, we need to find app profiles that are successful on both markets. For instance, a profile that works well for both markets might be a productivity app that makes use of gamification.\n",
    "\n",
    "Let's begin the analysis by getting a sense of what are the most common genres for each market. For this, we'll need to build frequency tables for a few columns in our data sets."
   ]
  },
  {
   "cell_type": "code",
   "execution_count": 19,
   "metadata": {
    "collapsed": false
   },
   "outputs": [],
   "source": [
    "def freq_table(dataset, index):\n",
    "    table = {}\n",
    "    total = 0\n",
    "    \n",
    "    for row in dataset:\n",
    "        total += 1\n",
    "        value = row[index]\n",
    "        if value in table:\n",
    "            table[value] += 1\n",
    "        else:\n",
    "            table[value] = 1\n",
    "            \n",
    "    table_percentages = {}\n",
    "    for key in table:\n",
    "        percentage = (table[key] / total) * 100\n",
    "        table_percentages[key] = percentage\n",
    "        \n",
    "    return table_percentages\n",
    "\n",
    "def display_table(dataset, index):\n",
    "    table = freq_table(dataset, index)\n",
    "    table_display = []\n",
    "    for key in table:\n",
    "        key_val_as_tuple = (table[key], key)\n",
    "        table_display.append(key_val_as_tuple)\n",
    "        \n",
    "    table_sorted = sorted(table_display, reverse = True)\n",
    "    for entry in table_sorted:\n",
    "        print(entry[1], ':', entry[0])"
   ]
  },
  {
   "cell_type": "code",
   "execution_count": 20,
   "metadata": {
    "collapsed": false
   },
   "outputs": [
    {
     "name": "stdout",
     "output_type": "stream",
     "text": [
      "Games : 58.25788323446769\n",
      "Entertainment : 7.836403371838902\n",
      "Photo & Video : 4.995316890415236\n",
      "Education : 3.6840462066812365\n",
      "Social Networking : 3.3093974399000934\n",
      "Shopping : 2.5913206369029034\n",
      "Utilities : 2.466437714642523\n",
      "Sports : 2.1542304089915705\n",
      "Music : 2.0605682172962845\n",
      "Health & Fitness : 2.0293474867311896\n",
      "Productivity : 1.7483609116453322\n",
      "Lifestyle : 1.5610365282547611\n",
      "News : 1.3424914142990947\n",
      "Travel : 1.248829222603809\n",
      "Finance : 1.0927255697783327\n",
      "Weather : 0.8741804558226661\n",
      "Food & Drink : 0.8117389946924758\n",
      "Reference : 0.5307524196066188\n",
      "Business : 0.5307524196066188\n",
      "Book : 0.3746487667811427\n",
      "Navigation : 0.18732438339057134\n",
      "Medical : 0.18732438339057134\n",
      "Catalogs : 0.1248829222603809\n"
     ]
    }
   ],
   "source": [
    "ios_final = ios_new_free\n",
    "android_final = android_new_free\n",
    "\n",
    "display_table(ios_final, -5)"
   ]
  },
  {
   "cell_type": "code",
   "execution_count": 17,
   "metadata": {
    "collapsed": false
   },
   "outputs": [
    {
     "name": "stdout",
     "output_type": "stream",
     "text": [
      "FAMILY : 18.980233602875114\n",
      "GAME : 9.703504043126685\n",
      "TOOLS : 8.434411500449237\n",
      "BUSINESS : 4.5822102425876015\n",
      "LIFESTYLE : 3.930817610062893\n",
      "PRODUCTIVITY : 3.8858939802336026\n",
      "FINANCE : 3.6837376460017968\n",
      "MEDICAL : 3.515274034141959\n",
      "SPORTS : 3.380503144654088\n",
      "PERSONALIZATION : 3.313117699910153\n",
      "COMMUNICATION : 3.234501347708895\n",
      "HEALTH_AND_FITNESS : 3.0660377358490565\n",
      "PHOTOGRAPHY : 2.9424977538185084\n",
      "NEWS_AND_MAGAZINES : 2.8301886792452833\n",
      "SOCIAL : 2.6504941599281224\n",
      "TRAVEL_AND_LOCAL : 2.324797843665768\n",
      "SHOPPING : 2.2461814914645104\n",
      "BOOKS_AND_REFERENCE : 2.178796046720575\n",
      "DATING : 1.853099730458221\n",
      "VIDEO_PLAYERS : 1.7969451931716083\n",
      "MAPS_AND_NAVIGATION : 1.4150943396226416\n",
      "FOOD_AND_DRINK : 1.2353998203054808\n",
      "EDUCATION : 1.1680143755615455\n",
      "ENTERTAINMENT : 0.9546271338724168\n",
      "LIBRARIES_AND_DEMO : 0.9321653189577718\n",
      "AUTO_AND_VEHICLES : 0.9209344115004492\n",
      "HOUSE_AND_HOME : 0.8198562443845463\n",
      "WEATHER : 0.7973944294699011\n",
      "EVENTS : 0.7075471698113208\n",
      "PARENTING : 0.651392632524708\n",
      "ART_AND_DESIGN : 0.6401617250673854\n",
      "COMICS : 0.628930817610063\n",
      "BEAUTY : 0.5952380952380952\n"
     ]
    }
   ],
   "source": [
    "display_table(android_final, 1) #Category"
   ]
  },
  {
   "cell_type": "markdown",
   "metadata": {},
   "source": [
    "At first glance, the landscape looks much different on Play store. However, when I look at the 'family' section in the store, it does seem that most of these apps are in fact **games** for kids."
   ]
  },
  {
   "cell_type": "code",
   "execution_count": 21,
   "metadata": {
    "collapsed": false
   },
   "outputs": [
    {
     "name": "stdout",
     "output_type": "stream",
     "text": [
      "Tools : 8.423180592991914\n",
      "Entertainment : 6.087151841868823\n",
      "Education : 5.3908355795148255\n",
      "Business : 4.5822102425876015\n",
      "Lifestyle : 3.919586702605571\n",
      "Productivity : 3.8858939802336026\n",
      "Finance : 3.6837376460017968\n",
      "Medical : 3.515274034141959\n",
      "Sports : 3.447888589398023\n",
      "Personalization : 3.313117699910153\n",
      "Communication : 3.234501347708895\n",
      "Action : 3.088499550763702\n",
      "Health & Fitness : 3.0660377358490565\n",
      "Photography : 2.9424977538185084\n",
      "News & Magazines : 2.8301886792452833\n",
      "Social : 2.6504941599281224\n",
      "Travel & Local : 2.3135669362084457\n",
      "Shopping : 2.2461814914645104\n",
      "Books & Reference : 2.178796046720575\n",
      "Simulation : 2.0664869721473496\n",
      "Dating : 1.853099730458221\n",
      "Arcade : 1.8418688230008984\n",
      "Video Players & Editors : 1.7744833782569631\n",
      "Casual : 1.7520215633423182\n",
      "Maps & Navigation : 1.4150943396226416\n",
      "Food & Drink : 1.2353998203054808\n",
      "Puzzle : 1.1230907457322552\n",
      "Racing : 0.9883198562443846\n",
      "Role Playing : 0.9321653189577718\n",
      "Libraries & Demo : 0.9321653189577718\n",
      "Strategy : 0.9209344115004492\n",
      "Auto & Vehicles : 0.9209344115004492\n",
      "House & Home : 0.8198562443845463\n",
      "Weather : 0.7973944294699011\n",
      "Events : 0.7075471698113208\n",
      "Adventure : 0.6850853548966757\n",
      "Comics : 0.6176999101527404\n",
      "Beauty : 0.5952380952380952\n",
      "Art & Design : 0.5952380952380952\n",
      "Parenting : 0.4941599281221923\n",
      "Card : 0.44923629829290207\n",
      "Trivia : 0.42677448337825696\n",
      "Casino : 0.42677448337825696\n",
      "Educational;Education : 0.39308176100628933\n",
      "Board : 0.38185085354896675\n",
      "Educational : 0.3706199460916442\n",
      "Education;Education : 0.3481581311769991\n",
      "Word : 0.2583108715184187\n",
      "Casual;Pretend Play : 0.2358490566037736\n",
      "Music : 0.20215633423180593\n",
      "Racing;Action & Adventure : 0.1684636118598383\n",
      "Puzzle;Brain Games : 0.1684636118598383\n",
      "Entertainment;Music & Video : 0.1684636118598383\n",
      "Casual;Brain Games : 0.13477088948787064\n",
      "Casual;Action & Adventure : 0.13477088948787064\n",
      "Arcade;Action & Adventure : 0.12353998203054807\n",
      "Action;Action & Adventure : 0.10107816711590296\n",
      "Educational;Pretend Play : 0.08984725965858043\n",
      "Simulation;Action & Adventure : 0.07861635220125787\n",
      "Parenting;Education : 0.07861635220125787\n",
      "Entertainment;Brain Games : 0.07861635220125787\n",
      "Board;Brain Games : 0.07861635220125787\n",
      "Parenting;Music & Video : 0.06738544474393532\n",
      "Educational;Brain Games : 0.06738544474393532\n",
      "Casual;Creativity : 0.06738544474393532\n",
      "Art & Design;Creativity : 0.06738544474393532\n",
      "Education;Pretend Play : 0.05615453728661276\n",
      "Role Playing;Pretend Play : 0.04492362982929021\n",
      "Education;Creativity : 0.04492362982929021\n",
      "Role Playing;Action & Adventure : 0.03369272237196766\n",
      "Puzzle;Action & Adventure : 0.03369272237196766\n",
      "Entertainment;Creativity : 0.03369272237196766\n",
      "Entertainment;Action & Adventure : 0.03369272237196766\n",
      "Educational;Creativity : 0.03369272237196766\n",
      "Educational;Action & Adventure : 0.03369272237196766\n",
      "Education;Music & Video : 0.03369272237196766\n",
      "Education;Brain Games : 0.03369272237196766\n",
      "Education;Action & Adventure : 0.03369272237196766\n",
      "Adventure;Action & Adventure : 0.03369272237196766\n",
      "Video Players & Editors;Music & Video : 0.022461814914645106\n",
      "Sports;Action & Adventure : 0.022461814914645106\n",
      "Simulation;Pretend Play : 0.022461814914645106\n",
      "Puzzle;Creativity : 0.022461814914645106\n",
      "Music;Music & Video : 0.022461814914645106\n",
      "Entertainment;Pretend Play : 0.022461814914645106\n",
      "Casual;Education : 0.022461814914645106\n",
      "Board;Action & Adventure : 0.022461814914645106\n",
      "Video Players & Editors;Creativity : 0.011230907457322553\n",
      "Trivia;Education : 0.011230907457322553\n",
      "Travel & Local;Action & Adventure : 0.011230907457322553\n",
      "Tools;Education : 0.011230907457322553\n",
      "Strategy;Education : 0.011230907457322553\n",
      "Strategy;Creativity : 0.011230907457322553\n",
      "Strategy;Action & Adventure : 0.011230907457322553\n",
      "Simulation;Education : 0.011230907457322553\n",
      "Role Playing;Brain Games : 0.011230907457322553\n",
      "Racing;Pretend Play : 0.011230907457322553\n",
      "Puzzle;Education : 0.011230907457322553\n",
      "Parenting;Brain Games : 0.011230907457322553\n",
      "Music & Audio;Music & Video : 0.011230907457322553\n",
      "Lifestyle;Pretend Play : 0.011230907457322553\n",
      "Lifestyle;Education : 0.011230907457322553\n",
      "Health & Fitness;Education : 0.011230907457322553\n",
      "Health & Fitness;Action & Adventure : 0.011230907457322553\n",
      "Entertainment;Education : 0.011230907457322553\n",
      "Communication;Creativity : 0.011230907457322553\n",
      "Comics;Creativity : 0.011230907457322553\n",
      "Casual;Music & Video : 0.011230907457322553\n",
      "Card;Action & Adventure : 0.011230907457322553\n",
      "Books & Reference;Education : 0.011230907457322553\n",
      "Art & Design;Pretend Play : 0.011230907457322553\n",
      "Art & Design;Action & Adventure : 0.011230907457322553\n",
      "Arcade;Pretend Play : 0.011230907457322553\n",
      "Adventure;Education : 0.011230907457322553\n"
     ]
    }
   ],
   "source": [
    "display_table(android_final, -4) #Genres"
   ]
  },
  {
   "cell_type": "markdown",
   "metadata": {},
   "source": [
    "When looking at the genres data within the play store, **tools** comes out on top. It's not completely clear what we are looking at in regards to the differences in genres and categories, but what we can tell is that genres data offers us a more granular look... ie it has more categories."
   ]
  },
  {
   "cell_type": "markdown",
   "metadata": {},
   "source": [
    "So at this point in the analysis, we can see the app store is dominated by games and apps designed for fun. Whilst the play store shows a more balanced landscape between fun and practical apps. "
   ]
  },
  {
   "cell_type": "markdown",
   "metadata": {},
   "source": [
    "## Most popular apps by genre on the app store"
   ]
  },
  {
   "cell_type": "markdown",
   "metadata": {},
   "source": [
    "One of the best ways to find out what the most popular apps are is to calculate the avergae number of installs per app genre. In the google play set we can find this in the `installs` column, but the app store data has this missing. As a workaround, we can take the total number of user ratings as a proxy, we find this in `rating_count_tot`."
   ]
  },
  {
   "cell_type": "code",
   "execution_count": 22,
   "metadata": {
    "collapsed": false
   },
   "outputs": [
    {
     "name": "stdout",
     "output_type": "stream",
     "text": [
      "Medical : 612.0\n",
      "Business : 7491.117647058823\n",
      "Finance : 32367.02857142857\n",
      "Weather : 52279.892857142855\n",
      "Book : 46384.916666666664\n",
      "Lifestyle : 16815.48\n",
      "News : 21248.023255813954\n",
      "Food & Drink : 33333.92307692308\n",
      "Productivity : 21028.410714285714\n",
      "Photo & Video : 28441.54375\n",
      "Travel : 28243.8\n",
      "Navigation : 86090.33333333333\n",
      "Catalogs : 4004.0\n",
      "Utilities : 19156.493670886077\n",
      "Education : 7003.983050847458\n",
      "Music : 57326.530303030304\n",
      "Sports : 23008.898550724636\n",
      "Shopping : 27230.734939759037\n",
      "Health & Fitness : 23298.015384615384\n",
      "Reference : 79350.4705882353\n",
      "Entertainment : 14195.358565737051\n",
      "Games : 22886.36709539121\n",
      "Social Networking : 71548.34905660378\n"
     ]
    }
   ],
   "source": [
    "genres_ios = freq_table(ios_final, -5)\n",
    "\n",
    "for genre in genres_ios:\n",
    "    total = 0\n",
    "    len_genre = 0\n",
    "    for app in ios_final:\n",
    "        genre_app = app[-5]\n",
    "        if genre_app == genre:\n",
    "            n_ratings = float(app[5])\n",
    "            total += n_ratings\n",
    "            len_genre += 1\n",
    "    avg_n_ratings = total / len_genre\n",
    "    print(genre, ':', avg_n_ratings)"
   ]
  },
  {
   "cell_type": "markdown",
   "metadata": {},
   "source": [
    "On average, navigation apps have the highest number of user reviews, but this figure is heavily influenced by Waze and Google Maps, which have close to half a million user reviews together:"
   ]
  },
  {
   "cell_type": "code",
   "execution_count": 23,
   "metadata": {
    "collapsed": false
   },
   "outputs": [
    {
     "name": "stdout",
     "output_type": "stream",
     "text": [
      "Waze - GPS Navigation, Maps & Real-time Traffic : 345046\n",
      "Google Maps - Navigation & Transit : 154911\n",
      "Geocaching® : 12811\n",
      "CoPilot GPS – Car Navigation & Offline Maps : 3582\n",
      "ImmobilienScout24: Real Estate Search in Germany : 187\n",
      "Railway Route Search : 5\n"
     ]
    }
   ],
   "source": [
    "for app in ios_final:\n",
    "    if app[-5] == 'Navigation':\n",
    "        print(app[1], ':', app[5]) # print name and number of ratings"
   ]
  },
  {
   "cell_type": "markdown",
   "metadata": {},
   "source": [
    "The aim here is to find popular genres **but** it seems that some genres are heavily influenced by some large players like we see above. The same can be said for social networking apps where Facebook etc skew the results and for reference apps, the bible has the same effect."
   ]
  },
  {
   "cell_type": "code",
   "execution_count": 24,
   "metadata": {
    "collapsed": false
   },
   "outputs": [
    {
     "name": "stdout",
     "output_type": "stream",
     "text": [
      "Bible : 985920\n",
      "Dictionary.com Dictionary & Thesaurus : 200047\n",
      "Dictionary.com Dictionary & Thesaurus for iPad : 54175\n",
      "Google Translate : 26786\n",
      "Muslim Pro: Ramadan 2017 Prayer Times, Azan, Quran : 18418\n",
      "New Furniture Mods - Pocket Wiki & Game Tools for Minecraft PC Edition : 17588\n",
      "Merriam-Webster Dictionary : 16849\n",
      "Night Sky : 12122\n",
      "City Maps for Minecraft PE - The Best Maps for Minecraft Pocket Edition (MCPE) : 8535\n",
      "LUCKY BLOCK MOD ™ for Minecraft PC Edition - The Best Pocket Wiki & Mods Installer Tools : 4693\n",
      "GUNS MODS for Minecraft PC Edition - Mods Tools : 1497\n",
      "Guides for Pokémon GO - Pokemon GO News and Cheats : 826\n",
      "WWDC : 762\n",
      "Horror Maps for Minecraft PE - Download The Scariest Maps for Minecraft Pocket Edition (MCPE) Free : 718\n",
      "VPN Express : 14\n",
      "Real Bike Traffic Rider Virtual Reality Glasses : 8\n",
      "Jishokun-Japanese English Dictionary & Translator : 0\n"
     ]
    }
   ],
   "source": [
    "for app in ios_final:\n",
    "    if app[-5] == 'Reference':\n",
    "        print(app[1], ':', app[5])"
   ]
  },
  {
   "cell_type": "markdown",
   "metadata": {},
   "source": [
    "\n",
    "However, 'reference' seems to show some potential. One thing we could do is take another popular book and turn it into an app where we could add different features besides the raw version of the book. This might include daily quotes from the book, an audio version of the book, quizzes about the book, etc. On top of that, we could also embed a dictionary within the app, so users don't need to exit our app to look up words in an external app.\n",
    "\n",
    "This idea seems to fit well with the fact that the App Store is dominated by for-fun apps. This suggests the market might be a bit saturated with for-fun apps, which means a practical app might have more of a chance to stand out among the huge number of apps on the App Store.\n",
    "\n",
    "Other genres that seem popular include weather, book, food and drink, or finance. The book genre seem to overlap a bit with the app idea we described above, but the other genres don't seem too interesting to us:\n",
    "\n",
    "Weather apps — people generally don't spend too much time in-app, and the chances of making profit from in-app adds are low. Also, getting reliable live weather data may require us to connect our apps to non-free APIs.\n",
    "\n",
    "Food and drink — examples here include Starbucks, Dunkin' Donuts, McDonald's, etc. So making a popular food and drink app requires actual cooking and a delivery service, which is outside the scope of our company.\n",
    "\n",
    "Finance apps — these apps involve banking, paying bills, money transfer, etc. Building a finance app requires domain knowledge, and we don't want to hire a finance expert just to build an app."
   ]
  },
  {
   "cell_type": "markdown",
   "metadata": {
    "collapsed": true
   },
   "source": []
  },
  {
   "cell_type": "code",
   "execution_count": null,
   "metadata": {
    "collapsed": true
   },
   "outputs": [],
   "source": []
  }
 ],
 "metadata": {
  "kernelspec": {
   "display_name": "Python 3",
   "language": "python",
   "name": "python3"
  },
  "language_info": {
   "codemirror_mode": {
    "name": "ipython",
    "version": 3
   },
   "file_extension": ".py",
   "mimetype": "text/x-python",
   "name": "python",
   "nbconvert_exporter": "python",
   "pygments_lexer": "ipython3",
   "version": "3.4.3"
  }
 },
 "nbformat": 4,
 "nbformat_minor": 2
}
