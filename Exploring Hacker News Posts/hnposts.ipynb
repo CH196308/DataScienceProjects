{
 "cells": [
  {
   "cell_type": "markdown",
   "metadata": {
    "collapsed": true
   },
   "source": [
    "# Exploring Hacker News Posts\n"
   ]
  },
  {
   "cell_type": "markdown",
   "metadata": {},
   "source": [
    "This is a simple project where I will investigate the best times to post on Hacker News. \n",
    "\n",
    "Using data such as number of comments posted and indeed what times of the day/night most comments are posted, I intend to find the optimum time to reach an audience.\n",
    "\n",
    "I'm essentially using this project to practice and show some data cleaning and re-formatting skills. "
   ]
  },
  {
   "cell_type": "code",
   "execution_count": 1,
   "metadata": {
    "collapsed": false
   },
   "outputs": [
    {
     "name": "stdout",
     "output_type": "stream",
     "text": [
      "['id', 'title', 'url', 'num_points', 'num_comments', 'author', 'created_at']\n",
      "['12224879', 'Interactive Dynamic Video', 'http://www.interactivedynamicvideo.com/', '386', '52', 'ne0phyte', '8/4/2016 11:52']\n",
      "['10975351', 'How to Use Open Source and Shut the Fuck Up at the Same Time', 'http://hueniverse.com/2016/01/26/how-to-use-open-source-and-shut-the-fuck-up-at-the-same-time/', '39', '10', 'josep2', '1/26/2016 19:30']\n",
      "['11964716', \"Florida DJs May Face Felony for April Fools' Water Joke\", 'http://www.thewire.com/entertainment/2013/04/florida-djs-april-fools-water-joke/63798/', '2', '1', 'vezycash', '6/23/2016 22:20']\n",
      "['11919867', 'Technology ventures: From Idea to Enterprise', 'https://www.amazon.com/Technology-Ventures-Enterprise-Thomas-Byers/dp/0073523429', '3', '1', 'hswarna', '6/17/2016 0:01']\n"
     ]
    }
   ],
   "source": [
    "from csv import reader\n",
    "opened_file = open(\"hacker_news.csv\")\n",
    "read_file = reader(opened_file)\n",
    "hn = list(read_file)\n",
    "\n",
    "print(*hn[:5], sep=\"\\n\")"
   ]
  },
  {
   "cell_type": "code",
   "execution_count": 2,
   "metadata": {
    "collapsed": false
   },
   "outputs": [
    {
     "name": "stdout",
     "output_type": "stream",
     "text": [
      "['id', 'title', 'url', 'num_points', 'num_comments', 'author', 'created_at']\n"
     ]
    }
   ],
   "source": [
    "headers = hn[0]\n",
    "hn = hn[1:]\n",
    "print(headers)"
   ]
  },
  {
   "cell_type": "code",
   "execution_count": 3,
   "metadata": {
    "collapsed": false
   },
   "outputs": [
    {
     "name": "stdout",
     "output_type": "stream",
     "text": [
      "['12224879', 'Interactive Dynamic Video', 'http://www.interactivedynamicvideo.com/', '386', '52', 'ne0phyte', '8/4/2016 11:52']\n",
      "['10975351', 'How to Use Open Source and Shut the Fuck Up at the Same Time', 'http://hueniverse.com/2016/01/26/how-to-use-open-source-and-shut-the-fuck-up-at-the-same-time/', '39', '10', 'josep2', '1/26/2016 19:30']\n",
      "['11964716', \"Florida DJs May Face Felony for April Fools' Water Joke\", 'http://www.thewire.com/entertainment/2013/04/florida-djs-april-fools-water-joke/63798/', '2', '1', 'vezycash', '6/23/2016 22:20']\n",
      "['11919867', 'Technology ventures: From Idea to Enterprise', 'https://www.amazon.com/Technology-Ventures-Enterprise-Thomas-Byers/dp/0073523429', '3', '1', 'hswarna', '6/17/2016 0:01']\n",
      "['10301696', 'Note by Note: The Making of Steinway L1037 (2007)', 'http://www.nytimes.com/2007/11/07/movies/07stein.html?_r=0', '8', '2', 'walterbell', '9/30/2015 4:12']\n"
     ]
    }
   ],
   "source": [
    "print(*hn[:5], sep=\"\\n\")"
   ]
  },
  {
   "cell_type": "markdown",
   "metadata": {},
   "source": [
    "We only care about posts which begin with 'Ask HN' or 'Show HN', so now I will filter these with some simple searches. "
   ]
  },
  {
   "cell_type": "code",
   "execution_count": 4,
   "metadata": {
    "collapsed": false
   },
   "outputs": [
    {
     "name": "stdout",
     "output_type": "stream",
     "text": [
      "1744\n",
      "1162\n",
      "17194\n"
     ]
    }
   ],
   "source": [
    "ask_posts = []\n",
    "show_posts = []\n",
    "other_posts = []\n",
    "\n",
    "for row in hn:\n",
    "    title = row[1]\n",
    "    if title.lower().startswith(\"ask hn\"):\n",
    "        ask_posts.append(row)\n",
    "    elif title.lower().startswith(\"show hn\"):\n",
    "        show_posts.append(row)\n",
    "    else:\n",
    "        other_posts.append(row)\n",
    "        \n",
    "print(len(ask_posts))\n",
    "print(len(show_posts))\n",
    "print(len(other_posts))"
   ]
  },
  {
   "cell_type": "code",
   "execution_count": 5,
   "metadata": {
    "collapsed": false
   },
   "outputs": [
    {
     "name": "stdout",
     "output_type": "stream",
     "text": [
      "Ask posts:  14.038417431192661\n",
      "Show posts:  10.31669535283993\n"
     ]
    }
   ],
   "source": [
    "total_ask_comments = 0\n",
    "total_show_comments = 0\n",
    "\n",
    "for row in ask_posts:\n",
    "    num_comments = int(row[4])\n",
    "    total_ask_comments += num_comments\n",
    "    \n",
    "avg_ask_comments = total_ask_comments / len(ask_posts)\n",
    "print(\"Ask posts: \", avg_ask_comments)\n",
    "\n",
    "for row in show_posts:\n",
    "    num_comments = int(row[4])\n",
    "    total_show_comments += num_comments\n",
    "    \n",
    "avg_show_comments = total_show_comments / len(show_posts)\n",
    "print(\"Show posts: \", avg_show_comments)"
   ]
  },
  {
   "cell_type": "markdown",
   "metadata": {
    "collapsed": true
   },
   "source": [
    "So, evidentally there are a few more ask posts than there are show posts. Since ask posts receive more comments, I will focus solely on these from here on.\n",
    "\n",
    "Next I will attempt to collect the number of ask posts for each hour of the day, this will mean I can see if there is a particular time of day that ask posts attract more comments."
   ]
  },
  {
   "cell_type": "code",
   "execution_count": 6,
   "metadata": {
    "collapsed": false
   },
   "outputs": [
    {
     "name": "stdout",
     "output_type": "stream",
     "text": [
      "{0: 55,\n",
      " 1: 60,\n",
      " 2: 58,\n",
      " 3: 54,\n",
      " 4: 47,\n",
      " 5: 46,\n",
      " 6: 44,\n",
      " 7: 34,\n",
      " 8: 48,\n",
      " 9: 45,\n",
      " 10: 59,\n",
      " 11: 58,\n",
      " 12: 73,\n",
      " 13: 85,\n",
      " 14: 107,\n",
      " 15: 116,\n",
      " 16: 108,\n",
      " 17: 100,\n",
      " 18: 109,\n",
      " 19: 110,\n",
      " 20: 80,\n",
      " 21: 109,\n",
      " 22: 71,\n",
      " 23: 68}\n",
      "\n",
      "\n",
      "{0: 447,\n",
      " 1: 683,\n",
      " 2: 1381,\n",
      " 3: 421,\n",
      " 4: 337,\n",
      " 5: 464,\n",
      " 6: 397,\n",
      " 7: 267,\n",
      " 8: 492,\n",
      " 9: 251,\n",
      " 10: 793,\n",
      " 11: 641,\n",
      " 12: 687,\n",
      " 13: 1253,\n",
      " 14: 1416,\n",
      " 15: 4477,\n",
      " 16: 1814,\n",
      " 17: 1146,\n",
      " 18: 1439,\n",
      " 19: 1188,\n",
      " 20: 1722,\n",
      " 21: 1745,\n",
      " 22: 479,\n",
      " 23: 543}\n",
      "\n",
      "\n",
      "15\n"
     ]
    }
   ],
   "source": [
    "import datetime as dt\n",
    "\n",
    "result_list = []\n",
    "\n",
    "for row in ask_posts:\n",
    "    created = row[6]\n",
    "    comments = int(row[4])    \n",
    "    result_list.append([created, comments])\n",
    "\n",
    "counts_by_hour = {}\n",
    "comments_by_hour = {}\n",
    "\n",
    "for row in result_list:\n",
    "    date_str = row[0]\n",
    "    date_str_dt = dt.datetime.strptime(date_str, \"%m/%d/%Y %H:%M\")\n",
    "    hour = date_str_dt.hour\n",
    "    \n",
    "    if hour not in counts_by_hour:\n",
    "        counts_by_hour[hour] = 1\n",
    "        comments_by_hour[hour] = row[1]\n",
    "    else:\n",
    "        counts_by_hour[hour] += 1\n",
    "        comments_by_hour[hour] += row[1]\n",
    "\n",
    "        \n",
    "import pprint\n",
    "\n",
    "pprint.pprint(counts_by_hour)\n",
    "print(\"\\n\")\n",
    "pprint.pprint(comments_by_hour)\n",
    "print(\"\\n\")\n",
    "print(max(counts_by_hour, key=counts_by_hour.get))"
   ]
  },
  {
   "cell_type": "markdown",
   "metadata": {},
   "source": [
    "Above we have values for both 'posts' and 'comments per post' by the hour. Now we can calculate the average comments for each hour of the day."
   ]
  },
  {
   "cell_type": "code",
   "execution_count": 8,
   "metadata": {
    "collapsed": false
   },
   "outputs": [
    {
     "name": "stdout",
     "output_type": "stream",
     "text": [
      "[[0, 8.127272727272727],\n",
      " [1, 11.383333333333333],\n",
      " [2, 23.810344827586206],\n",
      " [3, 7.796296296296297],\n",
      " [4, 7.170212765957447],\n",
      " [5, 10.08695652173913],\n",
      " [6, 9.022727272727273],\n",
      " [7, 7.852941176470588],\n",
      " [8, 10.25],\n",
      " [9, 5.5777777777777775],\n",
      " [10, 13.440677966101696],\n",
      " [11, 11.051724137931034],\n",
      " [12, 9.41095890410959],\n",
      " [13, 14.741176470588234],\n",
      " [14, 13.233644859813085],\n",
      " [15, 38.5948275862069],\n",
      " [16, 16.796296296296298],\n",
      " [17, 11.46],\n",
      " [18, 13.20183486238532],\n",
      " [19, 10.8],\n",
      " [20, 21.525],\n",
      " [21, 16.009174311926607],\n",
      " [22, 6.746478873239437],\n",
      " [23, 7.985294117647059]]\n"
     ]
    }
   ],
   "source": [
    "avg_comments = []\n",
    "\n",
    "for row in counts_by_hour:\n",
    "    no_posts = counts_by_hour[row]\n",
    "    no_comments = comments_by_hour[row]\n",
    "    avg = int(no_comments) / int(no_posts)\n",
    "    avg_comments.append([row, avg])\n",
    "\n",
    "avg_by_hour = avg_comments\n",
    "pprint.pprint(avg_by_hour)"
   ]
  },
  {
   "cell_type": "code",
   "execution_count": 10,
   "metadata": {
    "collapsed": false
   },
   "outputs": [
    {
     "name": "stdout",
     "output_type": "stream",
     "text": [
      "[[8.127272727272727, 0],\n",
      " [11.383333333333333, 1],\n",
      " [23.810344827586206, 2],\n",
      " [7.796296296296297, 3],\n",
      " [7.170212765957447, 4],\n",
      " [10.08695652173913, 5],\n",
      " [9.022727272727273, 6],\n",
      " [7.852941176470588, 7],\n",
      " [10.25, 8],\n",
      " [5.5777777777777775, 9],\n",
      " [13.440677966101696, 10],\n",
      " [11.051724137931034, 11],\n",
      " [9.41095890410959, 12],\n",
      " [14.741176470588234, 13],\n",
      " [13.233644859813085, 14],\n",
      " [38.5948275862069, 15],\n",
      " [16.796296296296298, 16],\n",
      " [11.46, 17],\n",
      " [13.20183486238532, 18],\n",
      " [10.8, 19],\n",
      " [21.525, 20],\n",
      " [16.009174311926607, 21],\n",
      " [6.746478873239437, 22],\n",
      " [7.985294117647059, 23]]\n"
     ]
    }
   ],
   "source": [
    "swap_avg_by_hour = []\n",
    "\n",
    "for row in avg_by_hour:\n",
    "    swap_avg_by_hour.append([row[1], row[0]])\n",
    "    \n",
    "pprint.pprint(swap_avg_by_hour)"
   ]
  },
  {
   "cell_type": "code",
   "execution_count": 13,
   "metadata": {
    "collapsed": false
   },
   "outputs": [],
   "source": [
    "sorted_swap = sorted(swap_avg_by_hour, reverse=True)"
   ]
  },
  {
   "cell_type": "code",
   "execution_count": 16,
   "metadata": {
    "collapsed": false
   },
   "outputs": [
    {
     "name": "stdout",
     "output_type": "stream",
     "text": [
      "15:00: 38.59 average comments per post\n",
      "02:00: 23.81 average comments per post\n",
      "20:00: 21.52 average comments per post\n",
      "16:00: 16.80 average comments per post\n",
      "21:00: 16.01 average comments per post\n"
     ]
    }
   ],
   "source": [
    "for row in sorted_swap[:5]:\n",
    "    hour = dt.datetime.strptime(str(row[1]), \"%H\")\n",
    "    time_string = hour.strftime(\"%H:%M\")\n",
    "    print((\"{}: {:.2f} average comments per post\")\n",
    "          .format(time_string, row[0]))"
   ]
  },
  {
   "cell_type": "markdown",
   "metadata": {},
   "source": [
    "So we have a clear winner in terms of when it is we should be posting on Hacker News. 3 o'clock in the afternoon averages almost 40 comments per post which is huge. Next in line is 2 in the morning, which is also interesting considering it could be labelled as an **anti** social time where I'm from.\n",
    "\n",
    "I would assume some kind of importance lies on time zones here and that would be my next area of investigation."
   ]
  },
  {
   "cell_type": "code",
   "execution_count": null,
   "metadata": {
    "collapsed": true
   },
   "outputs": [],
   "source": []
  }
 ],
 "metadata": {
  "kernelspec": {
   "display_name": "Python 3",
   "language": "python",
   "name": "python3"
  },
  "language_info": {
   "codemirror_mode": {
    "name": "ipython",
    "version": 3
   },
   "file_extension": ".py",
   "mimetype": "text/x-python",
   "name": "python",
   "nbconvert_exporter": "python",
   "pygments_lexer": "ipython3",
   "version": "3.4.3"
  }
 },
 "nbformat": 4,
 "nbformat_minor": 2
}
